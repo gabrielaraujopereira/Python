{
  "nbformat": 4,
  "nbformat_minor": 0,
  "metadata": {
    "colab": {
      "provenance": [],
      "include_colab_link": true
    },
    "kernelspec": {
      "name": "python3",
      "display_name": "Python 3"
    },
    "language_info": {
      "name": "python"
    }
  },
  "cells": [
    {
      "cell_type": "markdown",
      "metadata": {
        "id": "view-in-github",
        "colab_type": "text"
      },
      "source": [
        "<a href=\"https://colab.research.google.com/github/gabrielaraujopereira/Python/blob/main/3_Python_1_Numeros_e_Vari%C3%A1veis.ipynb\" target=\"_parent\"><img src=\"https://colab.research.google.com/assets/colab-badge.svg\" alt=\"Open In Colab\"/></a>"
      ]
    },
    {
      "cell_type": "markdown",
      "metadata": {
        "id": "RgmmD_H_y8bi"
      },
      "source": [
        "# **Operações Matemáticas**"
      ]
    },
    {
      "cell_type": "code",
      "metadata": {
        "colab": {
          "base_uri": "https://localhost:8080/"
        },
        "id": "ie5PrpQFy5JO",
        "outputId": "efb6cf1c-8511-42e3-91df-2c46b5f487dc"
      },
      "source": [
        "# Soma\n",
        "4 + 4"
      ],
      "execution_count": null,
      "outputs": [
        {
          "output_type": "execute_result",
          "data": {
            "text/plain": [
              "8"
            ]
          },
          "metadata": {},
          "execution_count": 1
        }
      ]
    },
    {
      "cell_type": "code",
      "metadata": {
        "colab": {
          "base_uri": "https://localhost:8080/"
        },
        "id": "Ihb-7yb0zQ7k",
        "outputId": "2db198bf-78c1-4dbc-9c9d-1ddc5f26bded"
      },
      "source": [
        "# Subtração\n",
        "4 - 3"
      ],
      "execution_count": null,
      "outputs": [
        {
          "output_type": "execute_result",
          "data": {
            "text/plain": [
              "1"
            ]
          },
          "metadata": {},
          "execution_count": 2
        }
      ]
    },
    {
      "cell_type": "code",
      "metadata": {
        "colab": {
          "base_uri": "https://localhost:8080/"
        },
        "id": "Z6rqucQwzaW9",
        "outputId": "6cc02c83-7b6e-4463-8367-7d8d239d5a96"
      },
      "source": [
        "# Multiplicação\n",
        "3 * 3"
      ],
      "execution_count": null,
      "outputs": [
        {
          "output_type": "execute_result",
          "data": {
            "text/plain": [
              "9"
            ]
          },
          "metadata": {},
          "execution_count": 3
        }
      ]
    },
    {
      "cell_type": "code",
      "metadata": {
        "colab": {
          "base_uri": "https://localhost:8080/"
        },
        "id": "qmLLix7Wzcq4",
        "outputId": "b2bf8e56-9592-4ada-b7d6-93112b892884"
      },
      "source": [
        "# Divisão com resultado Float\n",
        "3 / 2"
      ],
      "execution_count": null,
      "outputs": [
        {
          "output_type": "execute_result",
          "data": {
            "text/plain": [
              "1.5"
            ]
          },
          "metadata": {},
          "execution_count": 4
        }
      ]
    },
    {
      "cell_type": "code",
      "metadata": {
        "colab": {
          "base_uri": "https://localhost:8080/"
        },
        "id": "rH7iDI2Kzg3E",
        "outputId": "be39d0e2-2c54-4a69-f7d8-8b2966aedcac"
      },
      "source": [
        "# Divisão com resultado Inteiro\n",
        "3 // 2"
      ],
      "execution_count": null,
      "outputs": [
        {
          "output_type": "execute_result",
          "data": {
            "text/plain": [
              "1"
            ]
          },
          "metadata": {},
          "execution_count": 5
        }
      ]
    },
    {
      "cell_type": "code",
      "metadata": {
        "colab": {
          "base_uri": "https://localhost:8080/"
        },
        "id": "gSJC5zcazVTy",
        "outputId": "006834d2-034c-49cc-96d4-24af1b7b435a"
      },
      "source": [
        "# Módulo - Pega o resto de uma Divisão\n",
        "10 % 3"
      ],
      "execution_count": null,
      "outputs": [
        {
          "output_type": "execute_result",
          "data": {
            "text/plain": [
              "1"
            ]
          },
          "metadata": {},
          "execution_count": 9
        }
      ]
    },
    {
      "cell_type": "code",
      "metadata": {
        "colab": {
          "base_uri": "https://localhost:8080/"
        },
        "id": "G2488jY4zYR5",
        "outputId": "f9875ab2-64bf-4e3b-df75-3f9233cf253e"
      },
      "source": [
        "# Potência\n",
        "4 ** 2"
      ],
      "execution_count": null,
      "outputs": [
        {
          "output_type": "execute_result",
          "data": {
            "text/plain": [
              "16"
            ]
          },
          "metadata": {},
          "execution_count": 10
        }
      ]
    },
    {
      "cell_type": "markdown",
      "metadata": {
        "id": "yK3R8W3qz2vV"
      },
      "source": [
        "# **Variáveis e Operadores**"
      ]
    },
    {
      "cell_type": "code",
      "metadata": {
        "id": "0BY8DBIsz4uJ"
      },
      "source": [
        "# Atribuindo o valor 141 à variável numetec\n",
        "numetec = 141"
      ],
      "execution_count": null,
      "outputs": []
    },
    {
      "cell_type": "code",
      "metadata": {
        "id": "FFjC7Oxv0erS"
      },
      "source": [
        "etec = \"Prof. Maria Cristina Medeiros\""
      ],
      "execution_count": null,
      "outputs": []
    },
    {
      "cell_type": "code",
      "source": [
        "valor = 5"
      ],
      "metadata": {
        "id": "6MWMMQX5Dby0"
      },
      "execution_count": null,
      "outputs": []
    },
    {
      "cell_type": "code",
      "metadata": {
        "colab": {
          "base_uri": "https://localhost:8080/"
        },
        "id": "iTfYVbkQz_Xe",
        "outputId": "e4409ee0-85b2-4606-c20f-9b00a1fe4bce"
      },
      "source": [
        "# Imprimindo o valor da variável\n",
        "numetec"
      ],
      "execution_count": null,
      "outputs": [
        {
          "output_type": "execute_result",
          "data": {
            "text/plain": [
              "141"
            ]
          },
          "metadata": {},
          "execution_count": 15
        }
      ]
    },
    {
      "cell_type": "code",
      "metadata": {
        "colab": {
          "base_uri": "https://localhost:8080/"
        },
        "id": "7qkX6yn_0F_M",
        "outputId": "5330ac4c-c704-495e-eb99-e5c520edaa58"
      },
      "source": [
        "# Imprimindo o valor da variável\n",
        "print(valor)"
      ],
      "execution_count": null,
      "outputs": [
        {
          "output_type": "stream",
          "name": "stdout",
          "text": [
            "5\n"
          ]
        }
      ]
    },
    {
      "cell_type": "code",
      "metadata": {
        "colab": {
          "base_uri": "https://localhost:8080/",
          "height": 183
        },
        "id": "SmR8-auA0KKB",
        "outputId": "a1cb91d0-b8df-4682-9d75-b8e3f93fe175"
      },
      "source": [
        "# Não podemos utilizar uma variável que não foi definida. Veja a mensagem de erro.\n",
        "outravariavel"
      ],
      "execution_count": null,
      "outputs": [
        {
          "output_type": "error",
          "ename": "NameError",
          "evalue": "ignored",
          "traceback": [
            "\u001b[0;31m---------------------------------------------------------------------------\u001b[0m",
            "\u001b[0;31mNameError\u001b[0m                                 Traceback (most recent call last)",
            "\u001b[0;32m<ipython-input-14-163aa3d2ffae>\u001b[0m in \u001b[0;36m<module>\u001b[0;34m()\u001b[0m\n\u001b[1;32m      1\u001b[0m \u001b[0;31m# Não podemos utilizar uma variável que não foi definida. Veja a mensagem de erro.\u001b[0m\u001b[0;34m\u001b[0m\u001b[0;34m\u001b[0m\u001b[0;34m\u001b[0m\u001b[0m\n\u001b[0;32m----> 2\u001b[0;31m \u001b[0moutravariavel\u001b[0m\u001b[0;34m\u001b[0m\u001b[0;34m\u001b[0m\u001b[0m\n\u001b[0m",
            "\u001b[0;31mNameError\u001b[0m: name 'outravariavel' is not defined"
          ]
        }
      ]
    },
    {
      "cell_type": "markdown",
      "metadata": {
        "id": "_25l514a0TwJ"
      },
      "source": [
        "## Saber o Tipo da Variável\n"
      ]
    },
    {
      "cell_type": "code",
      "metadata": {
        "colab": {
          "base_uri": "https://localhost:8080/"
        },
        "id": "0d7Fysge0Wxk",
        "outputId": "dc438d54-29ce-4852-e588-61ecbf0b9290"
      },
      "source": [
        "type(valor)"
      ],
      "execution_count": null,
      "outputs": [
        {
          "output_type": "execute_result",
          "data": {
            "text/plain": [
              "int"
            ]
          },
          "metadata": {},
          "execution_count": 23
        }
      ]
    },
    {
      "cell_type": "code",
      "metadata": {
        "colab": {
          "base_uri": "https://localhost:8080/"
        },
        "id": "W1Z32XWT0QGs",
        "outputId": "800f179b-01c5-47c9-a4a8-29f9d9006891"
      },
      "source": [
        "type(etec)"
      ],
      "execution_count": null,
      "outputs": [
        {
          "output_type": "execute_result",
          "data": {
            "text/plain": [
              "str"
            ]
          },
          "metadata": {},
          "execution_count": 24
        }
      ]
    },
    {
      "cell_type": "markdown",
      "metadata": {
        "id": "J7VEa9GU02nL"
      },
      "source": [
        "## Operações com variáveis"
      ]
    },
    {
      "cell_type": "markdown",
      "metadata": {
        "id": "7Zr4gGqg1D9B"
      },
      "source": [
        "### Soma de Variáveis\n"
      ]
    },
    {
      "cell_type": "code",
      "metadata": {
        "id": "Ab1hojKh01xH"
      },
      "source": [
        "num1 = 10\n",
        "num2= 20"
      ],
      "execution_count": null,
      "outputs": []
    },
    {
      "cell_type": "code",
      "metadata": {
        "id": "k5nibPZV1K-B"
      },
      "source": [
        "resultadoSoma = num1+num2\n",
        "resultadoSub = num1-num2"
      ],
      "execution_count": null,
      "outputs": []
    },
    {
      "cell_type": "code",
      "metadata": {
        "colab": {
          "base_uri": "https://localhost:8080/"
        },
        "id": "3Ec5MYU71PWT",
        "outputId": "7cb345fc-eefc-4334-aac4-ace88d966918"
      },
      "source": [
        "print(resultadoSoma)"
      ],
      "execution_count": null,
      "outputs": [
        {
          "output_type": "stream",
          "name": "stdout",
          "text": [
            "30\n"
          ]
        }
      ]
    },
    {
      "cell_type": "code",
      "metadata": {
        "colab": {
          "base_uri": "https://localhost:8080/"
        },
        "id": "V7qtmqBt1ckW",
        "outputId": "9f8239b0-4414-403b-d596-565a69054825"
      },
      "source": [
        "print(resultadoSub)"
      ],
      "execution_count": null,
      "outputs": [
        {
          "output_type": "stream",
          "name": "stdout",
          "text": [
            "-10\n"
          ]
        }
      ]
    },
    {
      "cell_type": "markdown",
      "metadata": {
        "id": "OIdXKCLF1ivh"
      },
      "source": [
        "### Concatenação de Variáveis\n"
      ]
    },
    {
      "cell_type": "code",
      "metadata": {
        "colab": {
          "base_uri": "https://localhost:8080/"
        },
        "id": "naUKyqtg1mX2",
        "outputId": "25aa3d96-6ced-4494-c085-a8e9285d5da4"
      },
      "source": [
        "print(\"A \",etec,\" possui como identificação o número: \", numetec )"
      ],
      "execution_count": null,
      "outputs": [
        {
          "output_type": "stream",
          "name": "stdout",
          "text": [
            "A  Prof. Maria Cristina Medeiros  possui como identificação o número:  141\n"
          ]
        }
      ]
    },
    {
      "cell_type": "code",
      "metadata": {
        "colab": {
          "base_uri": "https://localhost:8080/"
        },
        "id": "H_SSmLfw1_pA",
        "outputId": "a8d4c968-062b-4032-844c-c84dc076d71b"
      },
      "source": [
        "print(\"A soma de \", num1,\"+\", num2, \" é igual a \", resultadoSoma )"
      ],
      "execution_count": null,
      "outputs": [
        {
          "output_type": "stream",
          "name": "stdout",
          "text": [
            "A soma de  10 + 20  é igual a  30\n"
          ]
        }
      ]
    },
    {
      "cell_type": "code",
      "metadata": {
        "id": "l0lWuhiF2Yrt"
      },
      "source": [
        "nome = \"Guilherme\""
      ],
      "execution_count": null,
      "outputs": []
    },
    {
      "cell_type": "code",
      "metadata": {
        "id": "Nx0ZxMxu2bgU"
      },
      "source": [
        "sobrenome = \"Nakamura Carvalho\""
      ],
      "execution_count": null,
      "outputs": []
    },
    {
      "cell_type": "code",
      "metadata": {
        "colab": {
          "base_uri": "https://localhost:8080/",
          "height": 35
        },
        "id": "YU4IDiCj2eJY",
        "outputId": "f7882b76-090d-488b-b785-859d6fcc92d3"
      },
      "source": [
        "nome + \" \" +sobrenome"
      ],
      "execution_count": null,
      "outputs": [
        {
          "output_type": "execute_result",
          "data": {
            "text/plain": [
              "'Guilherme Nakamura Carvalho'"
            ],
            "application/vnd.google.colaboratory.intrinsic+json": {
              "type": "string"
            }
          },
          "metadata": {},
          "execution_count": 34
        }
      ]
    }
  ]
}
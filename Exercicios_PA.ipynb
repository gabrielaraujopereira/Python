{
  "nbformat": 4,
  "nbformat_minor": 0,
  "metadata": {
    "colab": {
      "provenance": [],
      "authorship_tag": "ABX9TyMay3CHf3Q4/YHbhiPw+UW8",
      "include_colab_link": true
    },
    "kernelspec": {
      "name": "python3",
      "display_name": "Python 3"
    },
    "language_info": {
      "name": "python"
    }
  },
  "cells": [
    {
      "cell_type": "markdown",
      "metadata": {
        "id": "view-in-github",
        "colab_type": "text"
      },
      "source": [
        "<a href=\"https://colab.research.google.com/github/gabrielaraujopereira/Python/blob/main/Exercicios_PA.ipynb\" target=\"_parent\"><img src=\"https://colab.research.google.com/assets/colab-badge.svg\" alt=\"Open In Colab\"/></a>"
      ]
    },
    {
      "cell_type": "markdown",
      "source": [
        "1. Faça um algoritmo que escreva na tela os números de um número inicial a um número final.\n",
        "Os números inicial e final devem ser informados pelo usuário;"
      ],
      "metadata": {
        "id": "ff6Dk7OnPt2o"
      }
    },
    {
      "cell_type": "code",
      "source": [
        "ninicial = int(input(\"Digite o número inicial: \"))\n",
        "nfinal = int(input(\"Digite o número final: \"))\n",
        "contador = ninicial\n",
        "while contador <= nfinal:\n",
        "  print(contador)\n",
        "  contador += 1"
      ],
      "metadata": {
        "colab": {
          "base_uri": "https://localhost:8080/"
        },
        "id": "9tMqrs3uOGAc",
        "outputId": "0812e5cd-adfc-42a5-cd5c-d03def53efc2"
      },
      "execution_count": 4,
      "outputs": [
        {
          "output_type": "stream",
          "name": "stdout",
          "text": [
            "Digite o número inicial: 1\n",
            "Digite o número final: 10\n",
            "1\n",
            "2\n",
            "3\n",
            "4\n",
            "5\n",
            "6\n",
            "7\n",
            "8\n",
            "9\n",
            "10\n"
          ]
        }
      ]
    },
    {
      "cell_type": "markdown",
      "source": [
        "2.Escrever um algoritmo que imprima a tabuada de um número informado pelo usuário;"
      ],
      "metadata": {
        "id": "bRCARBVHPriv"
      }
    },
    {
      "cell_type": "code",
      "source": [
        "numero = int(input(\"Digite o número da tabuada desejada\"))\n",
        "for i in range(1, 11):\n",
        "  resul = numero * i\n",
        "  print(f\"{numero} x {i} = {resul}\")"
      ],
      "metadata": {
        "colab": {
          "base_uri": "https://localhost:8080/"
        },
        "id": "dmcPNENOP1la",
        "outputId": "fd93af26-5334-49b6-a38f-88240ca535ac"
      },
      "execution_count": 5,
      "outputs": [
        {
          "output_type": "stream",
          "name": "stdout",
          "text": [
            "Digite o número da tabuada desejada3\n",
            "3 x 1 = 3\n",
            "3 x 2 = 6\n",
            "3 x 3 = 9\n",
            "3 x 4 = 12\n",
            "3 x 5 = 15\n",
            "3 x 6 = 18\n",
            "3 x 7 = 21\n",
            "3 x 8 = 24\n",
            "3 x 9 = 27\n",
            "3 x 10 = 30\n"
          ]
        }
      ]
    },
    {
      "cell_type": "markdown",
      "source": [
        "3.Escrever um algoritmo que gera e escreve os números ímpares entre 100 e 200;"
      ],
      "metadata": {
        "id": "zdya6chkRaLd"
      }
    },
    {
      "cell_type": "code",
      "source": [
        "for num in range(101, 200, 2):\n",
        "  print(num)"
      ],
      "metadata": {
        "colab": {
          "base_uri": "https://localhost:8080/"
        },
        "id": "Fxkcf2mxRzw5",
        "outputId": "af842d29-37a8-408e-b1bb-23d739f12a11"
      },
      "execution_count": 6,
      "outputs": [
        {
          "output_type": "stream",
          "name": "stdout",
          "text": [
            "101\n",
            "103\n",
            "105\n",
            "107\n",
            "109\n",
            "111\n",
            "113\n",
            "115\n",
            "117\n",
            "119\n",
            "121\n",
            "123\n",
            "125\n",
            "127\n",
            "129\n",
            "131\n",
            "133\n",
            "135\n",
            "137\n",
            "139\n",
            "141\n",
            "143\n",
            "145\n",
            "147\n",
            "149\n",
            "151\n",
            "153\n",
            "155\n",
            "157\n",
            "159\n",
            "161\n",
            "163\n",
            "165\n",
            "167\n",
            "169\n",
            "171\n",
            "173\n",
            "175\n",
            "177\n",
            "179\n",
            "181\n",
            "183\n",
            "185\n",
            "187\n",
            "189\n",
            "191\n",
            "193\n",
            "195\n",
            "197\n",
            "199\n"
          ]
        }
      ]
    },
    {
      "cell_type": "markdown",
      "source": [
        "4. Faça um programa que solicite cod da conta(exemplo: 122345) e senha(exemplo: 1234), o programa deve verificar o usuário e senha e tentar até três vezes para receber a senha correta, caso contrario o cartão é cancelado se digitar errado 3 vezes."
      ],
      "metadata": {
        "id": "RkM-CYB5SDNa"
      }
    },
    {
      "cell_type": "code",
      "source": [
        "codc = \"122345\"\n",
        "senhac = \"666\"\n",
        "\n",
        "tentativas = 0\n",
        "\n",
        "while tentativas <3:\n",
        "  cod = input(\"Digite o código da conta: \")\n",
        "  senha = input(\"Digite a senha:\")\n",
        "  if cod == codc and senha == senhac:\n",
        "    print(\"Acesso concedido.\")\n",
        "    break\n",
        "  else:\n",
        "    print(\"Código ou senha incorretos. Acesso negado.\")\n",
        "    tentativas += 1\n",
        "  if tentativas == 3:\n",
        "    print(\"Seu cartão foi cancelado.\")"
      ],
      "metadata": {
        "colab": {
          "base_uri": "https://localhost:8080/"
        },
        "id": "utFmx9SaU1gP",
        "outputId": "f0b8374d-21d1-4944-c4a7-a385a460e215"
      },
      "execution_count": 9,
      "outputs": [
        {
          "output_type": "stream",
          "name": "stdout",
          "text": [
            "Digite o código da conta: 122345\n",
            "Digite a senha:666\n",
            "Acesso concedido.\n"
          ]
        }
      ]
    },
    {
      "cell_type": "markdown",
      "source": [
        "5. Depois do Código anterior, caso o usuário digite o usuário e senha corretos o programa deve da a oportunidade do usuario escolher a operação a ser feita: Saque, depósito ou ver saldo,\n",
        "caso escolha saque ==> subtraia o valor do saque do seu saldo,\n",
        "caso escolha depósito ==> some o valor do depósito ao seu saldo,\n",
        "caso escolha saldo ==> mostre o saldo.\n",
        "caso escolha sair ==> sai do programa"
      ],
      "metadata": {
        "id": "UOPDfHO4XnuE"
      }
    },
    {
      "cell_type": "code",
      "source": [
        "saldo = 1000\n",
        "\n",
        "cod = \"12345\"\n",
        "sen = \"666\"\n",
        "\n",
        "tentativas = 0\n",
        "\n",
        "while tentativas < 3:\n",
        "    codigo_digitado = input(\"Digite o código da conta: \")\n",
        "    senha_digitada = input(\"Digite a senha: \")\n",
        "\n",
        "    if codigo_digitado == cod and senha_digitada == sen:\n",
        "        print(\"Acesso concedido. Bem-vindo!\")\n",
        "\n",
        "        while True:\n",
        "            print(\"\\nEscolha a operação a ser feita:\")\n",
        "            print(\"1. Saque\")\n",
        "            print(\"2. Depósito\")\n",
        "            print(\"3. Ver saldo\")\n",
        "            print(\"4. Sair\")\n",
        "\n",
        "            operacao = input(\"Digite o número da operação: \")\n",
        "\n",
        "            if operacao == \"1\":\n",
        "                valor_s = float(input(\"Digite o valor a ser sacado: \"))\n",
        "                if valor_s <= saldo:\n",
        "                    saldo -= valor_s\n",
        "                    print(f\"Saque de R${valor_s} realizado. Saldo restante: R${saldo}\")\n",
        "                else:\n",
        "                    print(\"Saldo insuficiente.\")\n",
        "            elif operacao == \"2\":\n",
        "                valor_d = float(input(\"Digite o valor a ser depositado: \"))\n",
        "                saldo += valor_d\n",
        "                print(f\"Depósito de R${valor_d} realizado. Saldo atual: R${saldo}\")\n",
        "            elif operacao == \"3\":\n",
        "                print(f\"Seu saldo é de: R${saldo}\")\n",
        "            elif operacao == \"4\":\n",
        "                print(\"Saindo...\")\n",
        "                break\n",
        "            else:\n",
        "                print(\"Opção inválida. Por favor, escolha uma opção válida.\")\n",
        "        break\n",
        "    else:\n",
        "        tentativas += 1\n",
        "        if tentativas < 3:\n",
        "            print(\"Tentativa incorreta. Tente novamente.\")\n",
        "        else:\n",
        "            print(\"Cartão cancelado. Tente novamente mais tarde.\")"
      ],
      "metadata": {
        "colab": {
          "base_uri": "https://localhost:8080/"
        },
        "id": "QC04rYgpcaxF",
        "outputId": "350458d9-9122-4528-a853-475fa4c5493c"
      },
      "execution_count": 12,
      "outputs": [
        {
          "output_type": "stream",
          "name": "stdout",
          "text": [
            "Digite o código da conta: 12345\n",
            "Digite a senha: 666\n",
            "Acesso concedido. Bem-vindo!\n",
            "\n",
            "Escolha a operação a ser feita:\n",
            "1. Saque\n",
            "2. Depósito\n",
            "3. Ver saldo\n",
            "4. Sair\n",
            "Digite o número da operação: 4\n",
            "Saindo...\n"
          ]
        }
      ]
    },
    {
      "cell_type": "markdown",
      "source": [
        "6. Escreva um algoritmo que leia valores inteiros e encontre o maior e o menor deles. Termine a leitura se o usuário digitar zero (0);"
      ],
      "metadata": {
        "id": "FDoKS2PGc-5f"
      }
    },
    {
      "cell_type": "code",
      "source": [
        "maior = float('-inf')\n",
        "menor = float('inf')\n",
        "\n",
        "while True:\n",
        "    valor = int(input(\"Digite um valor inteiro (0 para sair): \"))\n",
        "    if valor == 0:\n",
        "        break\n",
        "    if valor > maior:\n",
        "        maior = valor\n",
        "    if valor < menor:\n",
        "        menor = valor\n",
        "\n",
        "if maior != float('-inf') and menor != float('inf'):\n",
        "    print(f\"O maior valor é {maior} e o menor valor é {menor}.\")\n",
        "else:\n",
        "    print(\"Nenhum valor foi inserido.\")"
      ],
      "metadata": {
        "colab": {
          "base_uri": "https://localhost:8080/"
        },
        "id": "nYK7WyTtdAmu",
        "outputId": "563348e9-5afe-4474-f511-c7032f1f3324"
      },
      "execution_count": 13,
      "outputs": [
        {
          "output_type": "stream",
          "name": "stdout",
          "text": [
            "Digite um valor inteiro (0 para sair): 5\n",
            "Digite um valor inteiro (0 para sair): 7\n",
            "Digite um valor inteiro (0 para sair): 8\n",
            "Digite um valor inteiro (0 para sair): 3\n",
            "Digite um valor inteiro (0 para sair): -10\n",
            "Digite um valor inteiro (0 para sair): 30\n",
            "Digite um valor inteiro (0 para sair): -66\n",
            "Digite um valor inteiro (0 para sair): 7\n",
            "Digite um valor inteiro (0 para sair): 8\n",
            "Digite um valor inteiro (0 para sair): 5\n",
            "Digite um valor inteiro (0 para sair): 0\n",
            "O maior valor é 30 e o menor valor é -66.\n"
          ]
        }
      ]
    }
  ]
}